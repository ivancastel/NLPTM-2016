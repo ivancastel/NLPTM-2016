{
 "cells": [
  {
   "cell_type": "markdown",
   "metadata": {},
   "source": [
    "# NLP and TM Módulo 4 \n",
    "## Taller 1: word2vec\n",
    "\n",
    "**Nombres:**\n"
   ]
  },
  {
   "cell_type": "markdown",
   "metadata": {},
   "source": [
    "Obtenga el archivo del modelo word2vec entrenado con WikiNews en Español: [eswikinews.bin](http://dis.unal.edu.co/~fgonza/courses/eswikinews.bin)"
   ]
  },
  {
   "cell_type": "code",
   "execution_count": 6,
   "metadata": {
    "collapsed": true
   },
   "outputs": [],
   "source": [
    "# import word2vec model from gensim\n",
    "from gensim.models.word2vec import Word2Vec\n",
    "# load pre-trained model\n",
    "model = Word2Vec.load_word2vec_format('eswikinews.bin', binary=True)"
   ]
  },
  {
   "cell_type": "markdown",
   "metadata": {},
   "source": [
    "### 1. Comparando composicionalidad y analogía.\n",
    "\n",
    "Composicionalidad y analogía son dos mecanismos diferentes que se pueden usar con representaciones distribuidas. La idea es usar independientemente composicionalidad y analogía para resolver el mismo problema. El problema a resolver es encontrar el presidente de un país dado.\n",
    "\n",
    "Primero usaremos composicionalidad. La función siguiente debe recibir el nombre de un país y retornar una lista de palabras que posiblemente corresponden a presidentes.\n",
    "\n",
    "Por ejemplo, si la función se invoca con 'ecuador' como argumento:\n",
    "```python\n",
    ">>> presidents_comp('ecuador')\n",
    "[u'jamil_mahuad',\n",
    " u'presidencia',\n",
    " u'jose_maria_velasco_ibarra',\n",
    " u'republica',\n",
    " u'rafael_correa',\n",
    " u'gustavo_noboa',\n",
    " u'lucio_gutierrez',\n",
    " u'abdala_bucaram',\n",
    " u'vicepresidente',\n",
    " u'gabriel_garcia_moreno']\n",
    " ```\n"
   ]
  },
  {
   "cell_type": "code",
   "execution_count": 1,
   "metadata": {
    "collapsed": false,
    "scrolled": true
   },
   "outputs": [
    {
     "name": "stdout",
     "output_type": "stream",
     "text": [
      "colombia\n",
      "venezuela\n",
      "ecuador\n",
      "brasil\n",
      "argentina\n",
      "chile\n"
     ]
    }
   ],
   "source": [
    "def presidents_comp(country):\n",
    "    ### Su código debe ir aquí\n",
    "    return []\n",
    "\n",
    "for country in ['colombia', 'venezuela', 'ecuador', 'brasil', 'argentina', 'chile']:\n",
    "    print country\n",
    "    for president in presidents_comp(country):\n",
    "        print ' ', president"
   ]
  },
  {
   "cell_type": "markdown",
   "metadata": {},
   "source": [
    "El siguiente paso es usar analogías para encontrar el presidente de un país dado. "
   ]
  },
  {
   "cell_type": "code",
   "execution_count": 2,
   "metadata": {
    "collapsed": false,
    "scrolled": true
   },
   "outputs": [
    {
     "name": "stdout",
     "output_type": "stream",
     "text": [
      "colombia\n",
      "venezuela\n",
      "ecuador\n",
      "brasil\n",
      "argentina\n",
      "chile\n"
     ]
    }
   ],
   "source": [
    "def presidents_analogy(country):\n",
    "    ### Su código debe ir aquí\n",
    "    return []\n",
    "\n",
    "for country in ['colombia', 'venezuela', 'ecuador', 'brasil', 'argentina', 'chile']:\n",
    "    print country\n",
    "    for president in presidents_analogy(country):\n",
    "        print ' ', president"
   ]
  },
  {
   "cell_type": "markdown",
   "metadata": {},
   "source": [
    "¿Cual versión funciona mejor? Explique claramente. ¿Por qué cree que este es le caso?"
   ]
  },
  {
   "cell_type": "markdown",
   "metadata": {},
   "source": [
    "### 3. Escriba una función que calcule el antónimo de una palabra"
   ]
  },
  {
   "cell_type": "code",
   "execution_count": 3,
   "metadata": {
    "collapsed": false
   },
   "outputs": [
    {
     "name": "stdout",
     "output_type": "stream",
     "text": [
      "blanco -\n",
      "menor -\n",
      "rapido -\n",
      "arriba -\n"
     ]
    }
   ],
   "source": [
    "def antonimo(palabra):\n",
    "    ### Su código debe ir aquí\n",
    "    return '-'\n",
    "\n",
    "for palabra in ['blanco', 'menor', 'rapido', 'arriba']:\n",
    "    print palabra, antonimo(palabra)"
   ]
  },
  {
   "cell_type": "markdown",
   "metadata": {},
   "source": [
    "Busque más ejemplos en los que funcione y otros en los que no funcione. Explique."
   ]
  },
  {
   "cell_type": "markdown",
   "metadata": {},
   "source": [
    "### 4. Una de estas cosas no es como las otras...\n",
    "\n",
    "Gensim provee la función ```doesnt_match```, la cual permite encontrar, dentro de una lista de palabras, una palabra que está fuera de lugar. Por ejemplo:"
   ]
  },
  {
   "cell_type": "code",
   "execution_count": 26,
   "metadata": {
    "collapsed": false
   },
   "outputs": [
    {
     "data": {
      "text/plain": [
       "'abajo'"
      ]
     },
     "execution_count": 26,
     "metadata": {},
     "output_type": "execute_result"
    }
   ],
   "source": [
    "model.doesnt_match(\"azul rojo abajo verde\".split())"
   ]
  },
  {
   "cell_type": "markdown",
   "metadata": {},
   "source": [
    "La idea es implementar la misma funcionalidad por nuestra cuenta. La condición es que **solo** podemos usar la función \n",
    "```similarity``` de Gensim la cual calcula la similitud de dos palabras:"
   ]
  },
  {
   "cell_type": "code",
   "execution_count": 28,
   "metadata": {
    "collapsed": false
   },
   "outputs": [
    {
     "name": "stdout",
     "output_type": "stream",
     "text": [
      "0.872345939774\n",
      "0.263285541342\n"
     ]
    }
   ],
   "source": [
    "print model.similarity('azul', 'rojo')\n",
    "print model.similarity('azul', 'abajo')"
   ]
  },
  {
   "cell_type": "code",
   "execution_count": 5,
   "metadata": {
    "collapsed": false
   },
   "outputs": [
    {
     "name": "stdout",
     "output_type": "stream",
     "text": [
      "-\n"
     ]
    }
   ],
   "source": [
    "import numpy as np\n",
    "def no_es_como_las_otras(lista):\n",
    "    ### Su código debe ir aquí\n",
    "    return '-'\n",
    "\n",
    "print no_es_como_las_otras(\"azul rojo abajo verde\".split())"
   ]
  },
  {
   "cell_type": "markdown",
   "metadata": {
    "collapsed": true
   },
   "source": [
    "**Nota:** no olvide incluir los nombres de los integrantes del grupo (máximo 2) en el encabezado del notebook. Remita el notebook al siguiente *file request* de Dropbox: https://www.dropbox.com/request/k4GFiKHjl8OuE9sCiq1N."
   ]
  }
 ],
 "metadata": {
  "kernelspec": {
   "display_name": "Python 2",
   "language": "python",
   "name": "python2"
  },
  "language_info": {
   "codemirror_mode": {
    "name": "ipython",
    "version": 2
   },
   "file_extension": ".py",
   "mimetype": "text/x-python",
   "name": "python",
   "nbconvert_exporter": "python",
   "pygments_lexer": "ipython2",
   "version": "2.7.11"
  }
 },
 "nbformat": 4,
 "nbformat_minor": 0
}
