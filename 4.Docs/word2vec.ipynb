{
 "cells": [
  {
   "cell_type": "code",
   "execution_count": 65,
   "metadata": {
    "collapsed": false,
    "slideshow": {
     "slide_type": "skip"
    }
   },
   "outputs": [],
   "source": [
    "# reveal.js presentation configuration\n",
    "from notebook.services.config import ConfigManager\n",
    "\n",
    "cm = ConfigManager()\n",
    "cm.update('livereveal', {\n",
    "              'theme': 'league',\n",
    "              'transition': 'fade',\n",
    "              'center': 'false',\n",
    "              'overview' : 'true',\n",
    "              'start_slideshow_at': 'selected'\n",
    "})\n",
    "\n",
    "# import utility libraries\n",
    "import numpy as np\n",
    "from sklearn.decomposition import PCA\n",
    "import pandas as pd\n",
    "from matplotlib import pyplot as plt\n",
    "plt.rcParams['figure.figsize'] = (15.0, 12.0)\n",
    "pd.set_option('notebook_repr_html',True)\n",
    "pd.set_option('display.max_rows', 10)\n",
    "\n",
    "# pretty print function\n",
    "def pp(obj):\n",
    "    print pd.DataFrame(obj)\n",
    "    \n",
    "%matplotlib inline\n"
   ]
  },
  {
   "cell_type": "markdown",
   "metadata": {
    "slideshow": {
     "slide_type": "slide"
    }
   },
   "source": [
    "# Playing with word2vec\n",
    "\n",
    "[Fabio A. González](http://dis.unal.edu.co/~fgonza/), Universidad Nacional de Colombia"
   ]
  },
  {
   "cell_type": "markdown",
   "metadata": {
    "slideshow": {
     "slide_type": "slide"
    }
   },
   "source": [
    "## Google News dataset\n",
    "\n",
    "* Internal Google data set with one billion words\n",
    "* 692k vocabulary. Words with frequency below 5 were discarded.\n",
    "* 300-dimensions representation was obtained by training a skip-gram model.\n",
    "* Model available at https://drive.google.com/file/d/0B7XkCwpI5KDYNlNUTTlSS21pQmM/edit?usp=sharing"
   ]
  },
  {
   "cell_type": "code",
   "execution_count": 2,
   "metadata": {
    "collapsed": true,
    "slideshow": {
     "slide_type": "subslide"
    }
   },
   "outputs": [],
   "source": [
    "## Loading the model with `gensim`"
   ]
  },
  {
   "cell_type": "code",
   "execution_count": 6,
   "metadata": {
    "collapsed": false,
    "slideshow": {
     "slide_type": "-"
    }
   },
   "outputs": [],
   "source": [
    "# import wrod2vec model from gensim\n",
    "from gensim.models.word2vec import Word2Vec\n",
    "\n",
    "# load Google News pre-trained network\n",
    "model = Word2Vec.load_word2vec_format('GNvectors.bin', binary=True)"
   ]
  },
  {
   "cell_type": "markdown",
   "metadata": {
    "slideshow": {
     "slide_type": "slide"
    }
   },
   "source": [
    "## Continuous representation of words"
   ]
  },
  {
   "cell_type": "code",
   "execution_count": 7,
   "metadata": {
    "collapsed": false
   },
   "outputs": [
    {
     "name": "stdout",
     "output_type": "stream",
     "text": [
      "            0\n",
      "0   -0.144531\n",
      "1   -0.026489\n",
      "2    0.117676\n",
      "3    0.213867\n",
      "4   -0.042236\n",
      "..        ...\n",
      "295 -0.076660\n",
      "296  0.069824\n",
      "297 -0.095215\n",
      "298 -0.098145\n",
      "299 -0.012268\n",
      "\n",
      "[300 rows x 1 columns]\n"
     ]
    }
   ],
   "source": [
    "pp(model['table'])"
   ]
  },
  {
   "cell_type": "markdown",
   "metadata": {
    "slideshow": {
     "slide_type": "subslide"
    }
   },
   "source": [
    "## Semantically related words have similar representations"
   ]
  },
  {
   "cell_type": "code",
   "execution_count": 15,
   "metadata": {
    "collapsed": false
   },
   "outputs": [
    {
     "data": {
      "text/plain": [
       "<matplotlib.legend.Legend at 0x20898fb10>"
      ]
     },
     "execution_count": 15,
     "metadata": {},
     "output_type": "execute_result"
    },
    {
     "data": {
      "image/png": "[encoded data removed]",
      "text/plain": [
       "<matplotlib.figure.Figure at 0x207099150>"
      ]
     },
     "metadata": {},
     "output_type": "display_data"
    }
   ],
   "source": [
    "plt.plot(model['car'][:50], label = 'car')\n",
    "plt.plot(model['vehicle'][:50], label = 'vehicle')\n",
    "plt.legend()"
   ]
  },
  {
   "cell_type": "markdown",
   "metadata": {
    "slideshow": {
     "slide_type": "slide"
    }
   },
   "source": [
    "# Vector representation similarity = semantic similarity"
   ]
  },
  {
   "cell_type": "code",
   "execution_count": 13,
   "metadata": {
    "collapsed": false,
    "scrolled": true
   },
   "outputs": [
    {
     "name": "stdout",
     "output_type": "stream",
     "text": [
      "              0         1\n",
      "0       vehicle  0.782110\n",
      "1          cars  0.742383\n",
      "2           SUV  0.716096\n",
      "3       minivan  0.690704\n",
      "4         truck  0.673579\n",
      "5           Car  0.667761\n",
      "6    Ford_Focus  0.667320\n",
      "7   Honda_Civic  0.662685\n",
      "8          Jeep  0.651133\n",
      "9  pickup_truck  0.644144\n"
     ]
    }
   ],
   "source": [
    "pp(model.most_similar(positive=['car']))"
   ]
  },
  {
   "cell_type": "markdown",
   "metadata": {
    "slideshow": {
     "slide_type": "slide"
    }
   },
   "source": [
    "## Word vector space encodes linguistic regularities"
   ]
  },
  {
   "cell_type": "markdown",
   "metadata": {},
   "source": [
    "<img width= 600 src=\"linguistic regularities.jpg\">"
   ]
  },
  {
   "cell_type": "markdown",
   "metadata": {
    "slideshow": {
     "slide_type": "subslide"
    }
   },
   "source": [
    "## Solving analogies\n",
    "\n",
    "* **man** is to **woman** as **king** is to **??**\n",
    "* Relationships are encoded by word vector differences: \n",
    "$$ f(\\textrm{\"woman\"}) - f(\\textrm{\"man\"}) = f(\\textrm{\"??\"}) - f(\\textrm{\"king\"})$$\n",
    "* We can add the relationship encoding vector to a the vector of **king**: $$ f(\\textrm{\"king\"}) + (f(\\textrm{\"woman\"}) - f(\\textrm{\"man\"})) = f(\\textrm{\"??\"}) $$"
   ]
  },
  {
   "cell_type": "markdown",
   "metadata": {
    "slideshow": {
     "slide_type": "subslide"
    }
   },
   "source": [
    "$$ f(\\textrm{\"king\"}) + (f(\\textrm{\"woman\"}) - f(\\textrm{\"man\"})) = f(\\textrm{\"??\"}) $$"
   ]
  },
  {
   "cell_type": "code",
   "execution_count": 16,
   "metadata": {
    "collapsed": false,
    "scrolled": false,
    "slideshow": {
     "slide_type": "-"
    }
   },
   "outputs": [
    {
     "name": "stdout",
     "output_type": "stream",
     "text": [
      "               0         1\n",
      "0          queen  0.711819\n",
      "1        monarch  0.618967\n",
      "2       princess  0.590243\n",
      "3   crown_prince  0.549946\n",
      "4         prince  0.537732\n",
      "5          kings  0.523684\n",
      "6  Queen_Consort  0.523595\n",
      "7         queens  0.518113\n",
      "8         sultan  0.509859\n",
      "9       monarchy  0.508741\n"
     ]
    }
   ],
   "source": [
    "result = model.most_similar(negative=['man'], \n",
    "                            positive=['woman', 'king'])\n",
    "pp(result)"
   ]
  },
  {
   "cell_type": "markdown",
   "metadata": {
    "slideshow": {
     "slide_type": "subslide"
    }
   },
   "source": [
    "## Calculating comparatives from adjectives"
   ]
  },
  {
   "cell_type": "code",
   "execution_count": 45,
   "metadata": {
    "collapsed": true,
    "slideshow": {
     "slide_type": "skip"
    }
   },
   "outputs": [],
   "source": [
    "def plot_data(orig_data, labels):\n",
    "    pca = PCA(n_components=2)\n",
    "    data = pca.fit_transform(orig_data)\n",
    "    plt.plot(data[:,0], data[:,1], '.')\n",
    "    for i in range(len(data)):\n",
    "        plt.annotate(labels[i], xy = data[i])\n",
    "    for i in range(len(data)/2):\n",
    "        plt.annotate(\"\",\n",
    "                xy=data[i],\n",
    "                xytext=data[i+len(data)/2],\n",
    "                arrowprops=dict(arrowstyle=\"->\",\n",
    "                                connectionstyle=\"arc3\")\n",
    "                )"
   ]
  },
  {
   "cell_type": "code",
   "execution_count": 62,
   "metadata": {
    "collapsed": false
   },
   "outputs": [
    {
     "name": "stdout",
     "output_type": "stream",
     "text": [
      "        0         1\n",
      "0     big    bigger\n",
      "1   small   smaller\n",
      "2   large    larger\n",
      "3    wide     wider\n",
      "4  strong  stronger\n"
     ]
    }
   ],
   "source": [
    "def analogy(worda, wordb, wordc):\n",
    "    result = model.most_similar(negative=[worda], \n",
    "                                positive=[wordb, wordc])\n",
    "    return result[0][0]\n",
    "adjectives = ['big', 'small', 'large', 'wide', 'strong']\n",
    "comparatives = [analogy('good', 'better', adjective) for adjective in adjectives]\n",
    "pp(zip(adjectives,comparatives))"
   ]
  },
  {
   "cell_type": "markdown",
   "metadata": {
    "slideshow": {
     "slide_type": "subslide"
    }
   },
   "source": [
    "## Comparative vector"
   ]
  },
  {
   "cell_type": "code",
   "execution_count": 64,
   "metadata": {
    "collapsed": false,
    "slideshow": {
     "slide_type": "-"
    }
   },
   "outputs": [
    {
     "data": {
      "image/png": "[encoded data removed]",
      "text/plain": [
       "<matplotlib.figure.Figure at 0x220b31710>"
      ]
     },
     "metadata": {},
     "output_type": "display_data"
    }
   ],
   "source": [
    "labels = comparatives + adjectives\n",
    "data = [model[w] for w in labels]\n",
    "plot_data(data, labels)"
   ]
  },
  {
   "cell_type": "markdown",
   "metadata": {
    "slideshow": {
     "slide_type": "slide"
    }
   },
   "source": [
    "## Compositionality"
   ]
  },
  {
   "cell_type": "code",
   "execution_count": 53,
   "metadata": {
    "collapsed": false,
    "scrolled": true
   },
   "outputs": [
    {
     "name": "stdout",
     "output_type": "stream",
     "text": [
      "                    0         1\n",
      "0           Colombian  0.621875\n",
      "1                peso  0.610838\n",
      "2      Colombian_peso  0.606401\n",
      "3             Ecuador  0.591413\n",
      "4           Venezuela  0.588154\n",
      "5          currencies  0.588054\n",
      "6  Venezuelan_bolivar  0.586775\n",
      "7      Argentine_peso  0.580611\n",
      "8        Peruvian_sol  0.578458\n",
      "9      bolivar_fuerte  0.563851\n"
     ]
    }
   ],
   "source": [
    " pp(model.most_similar(positive=['Colombia', 'currency']))"
   ]
  },
  {
   "cell_type": "markdown",
   "metadata": {
    "slideshow": {
     "slide_type": "slide"
    }
   },
   "source": [
    "#### Spanish WikiNews dataset\n",
    "\n",
    "* Public data set with 94 million words\n",
    "* 213k vocabulary (converted to lowercase, accents removed)\n",
    "* 300-dimensions representation was obtained by training a cbow model"
   ]
  },
  {
   "cell_type": "code",
   "execution_count": 54,
   "metadata": {
    "collapsed": false,
    "slideshow": {
     "slide_type": "fragment"
    }
   },
   "outputs": [],
   "source": [
    "model_es = Word2Vec.load_word2vec_format('eswikinews.bin', binary=True)"
   ]
  },
  {
   "cell_type": "code",
   "execution_count": 59,
   "metadata": {
    "collapsed": false,
    "slideshow": {
     "slide_type": "subslide"
    }
   },
   "outputs": [
    {
     "name": "stdout",
     "output_type": "stream",
     "text": [
      "                       0         1\n",
      "0                    fea  0.657008\n",
      "1  television_colombiana  0.646205\n",
      "2            telenovelas  0.640899\n",
      "3             telenovela  0.632906\n",
      "4     exitosa_telenovela  0.622655\n",
      "5  telenovela_colombiana  0.611013\n",
      "6       caracol_noticias  0.590151\n",
      "7    telenovela_mexicana  0.587966\n",
      "8          solamente_vos  0.586370\n",
      "9           muneca_brava  0.569259\n"
     ]
    }
   ],
   "source": [
    " pp(model_es.most_similar(positive=['yo_soy_betty']))"
   ]
  }
 ],
 "metadata": {
  "celltoolbar": "Slideshow",
  "kernelspec": {
   "display_name": "Python 2",
   "language": "python",
   "name": "python2"
  },
  "language_info": {
   "codemirror_mode": {
    "name": "ipython",
    "version": 2
   },
   "file_extension": ".py",
   "mimetype": "text/x-python",
   "name": "python",
   "nbconvert_exporter": "python",
   "pygments_lexer": "ipython2",
   "version": "2.7.11"
  }
 },
 "nbformat": 4,
 "nbformat_minor": 0
}
